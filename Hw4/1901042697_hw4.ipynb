{
 "cells": [
  {
   "attachments": {},
   "cell_type": "markdown",
   "metadata": {},
   "source": [
    "# PART 1"
   ]
  },
  {
   "cell_type": "code",
   "execution_count": 11,
   "metadata": {},
   "outputs": [
    {
     "name": "stdout",
     "output_type": "stream",
     "text": [
      "(237, 13)\n",
      "(237,)\n",
      "(60, 13)\n",
      "(60,)\n"
     ]
    }
   ],
   "source": [
    "from sklearn.model_selection import train_test_split\n",
    "import pandas as pd\n",
    "\n",
    "#Load the dataset from a CSV file\n",
    "url = 'https://archive.ics.uci.edu/ml/machine-learning-databases/heart-disease/processed.cleveland.data'\n",
    "column_names = ['age', 'sex', 'cp', 'trestbps', 'chol', 'fbs', 'restecg', 'thalach', 'exang', 'oldpeak', 'slope', 'ca', 'thal', 'target']\n",
    "heart_data = pd.read_csv(url, names=column_names)\n",
    "\n",
    "# Preprocess the data\n",
    "heart_data = heart_data.replace('?', pd.NA).dropna()  # Handling missing values\n",
    "X = heart_data.drop('target', axis=1)\n",
    "y = heart_data['target']\n",
    "\n",
    "# Split the data into training and testing sets\n",
    "X_train, X_test, y_train, y_test = train_test_split(X, y, test_size=0.2, random_state=42)\n",
    "\n",
    "print(X_train.shape)\n",
    "print(y_train.shape)\n",
    "print(X_test.shape)\n",
    "print(y_test.shape)"
   ]
  },
  {
   "cell_type": "code",
   "execution_count": 6,
   "metadata": {},
   "outputs": [
    {
     "name": "stdout",
     "output_type": "stream",
     "text": [
      "(75, 4)\n",
      "(75,)\n",
      "(75, 4)\n",
      "(75,)\n"
     ]
    }
   ],
   "source": [
    "from sklearn.datasets import load_iris\n",
    "from sklearn.model_selection import train_test_split\n",
    "import pandas as pd\n",
    "\n",
    "iris = load_iris()\n",
    "X, y = iris.data, iris.target\n",
    "X_train, X_test, y_train, y_test = train_test_split(X, y, test_size=0.5, random_state=42)\n",
    "\n",
    "print(X_train.shape)\n",
    "print(y_train.shape)\n",
    "print(X_test.shape)\n",
    "print(y_test.shape)"
   ]
  },
  {
   "attachments": {},
   "cell_type": "markdown",
   "metadata": {},
   "source": [
    "![alt text](./imgs/part1.png)"
   ]
  },
  {
   "attachments": {},
   "cell_type": "markdown",
   "metadata": {},
   "source": [
    "# PART 2"
   ]
  },
  {
   "cell_type": "code",
   "execution_count": 7,
   "metadata": {},
   "outputs": [
    {
     "name": "stdout",
     "output_type": "stream",
     "text": [
      "MLP with depth=1 and 5 nodes: Accuracy = 1.0\n",
      "MLP with depth=1 and 10 nodes: Accuracy = 0.9733333333333334\n",
      "MLP with depth=1 and 15 nodes: Accuracy = 0.9866666666666667\n",
      "MLP with depth=2 and 5 nodes: Accuracy = 0.96\n",
      "MLP with depth=2 and 10 nodes: Accuracy = 0.96\n",
      "MLP with depth=2 and 15 nodes: Accuracy = 0.9733333333333334\n",
      "MLP with depth=3 and 5 nodes: Accuracy = 0.9733333333333334\n",
      "MLP with depth=3 and 10 nodes: Accuracy = 0.9466666666666667\n",
      "MLP with depth=3 and 15 nodes: Accuracy = 0.96\n"
     ]
    }
   ],
   "source": [
    "from sklearn.neural_network import MLPClassifier\n",
    "from sklearn.metrics import accuracy_score\n",
    "from sklearn.metrics import confusion_matrix\n",
    "import matplotlib.pyplot as plt\n",
    "import seaborn as sns\n",
    "\n",
    "\n",
    "depths = [1, 2, 3]  # Different depths (number of hidden layers)\n",
    "nodes = [5, 10, 15]  # Different numbers of nodes in each hidden layer\n",
    "\n",
    "for depth in depths:\n",
    "    for node in nodes:\n",
    "        mlp = MLPClassifier(hidden_layer_sizes=(node,) * depth, random_state=42, max_iter=2500)\n",
    "        mlp.fit(X_train, y_train)\n",
    "        y_pred = mlp.predict(X_test)\n",
    "        accuracy = accuracy_score(y_test, y_pred)\n",
    "        print(f\"MLP with depth={depth} and {node} nodes: Accuracy = {accuracy}\")\n",
    "        # cm = confusion_matrix(y_test, y_pred)\n",
    "        # sns.heatmap(cm, annot=True, fmt='d')\n",
    "        # plt.show()\n"
   ]
  },
  {
   "attachments": {},
   "cell_type": "markdown",
   "metadata": {},
   "source": [
    "## Result and Analysis\n",
    "\n",
    "The accuracy scores are as follows and the results are quite good the data is labeled very good.\n",
    "\n",
    "\n",
    "![alt text](./imgs/part2.png)"
   ]
  },
  {
   "attachments": {},
   "cell_type": "markdown",
   "metadata": {},
   "source": [
    "# PART 3"
   ]
  },
  {
   "cell_type": "code",
   "execution_count": 12,
   "metadata": {},
   "outputs": [
    {
     "name": "stdout",
     "output_type": "stream",
     "text": [
      "AdaBoost with MLP as base classifier: Accuracy = 0.6166666666666667\n"
     ]
    },
    {
     "data": {
      "image/png": "[encoded data removed]",
      "text/plain": [
       "<Figure size 640x480 with 2 Axes>"
      ]
     },
     "metadata": {},
     "output_type": "display_data"
    }
   ],
   "source": [
    "from sklearn.ensemble import AdaBoostClassifier\n",
    "from sklearn.linear_model import Perceptron\n",
    "from sklearn.metrics import accuracy_score\n",
    "from sklearn.metrics import confusion_matrix\n",
    "import matplotlib.pyplot as plt\n",
    "import seaborn as sns\n",
    "\n",
    "base_clf = Perceptron(random_state=42, max_iter=2500)\n",
    "base_clf.fit(X_train, y_train)\n",
    "y_pred = base_clf.predict(X_test)\n",
    "accuracy = accuracy_score(y_test, y_pred)\n",
    "\n",
    "print(f\"Perceptron: Accuracy = {accuracy}\")\n",
    "\n",
    "cm = confusion_matrix(y_test, y_pred)\n",
    "sns.heatmap(cm, annot=True, fmt='d')\n",
    "plt.show()\n",
    "\n",
    "\n",
    "adaBoost = AdaBoostClassifier(estimator=base_clf, random_state=42, algorithm='SAMME')\n",
    "adaBoost.fit(X_train, y_train)\n",
    "y_pred = adaBoost.predict(X_test)\n",
    "accuracy = accuracy_score(y_test, y_pred)\n",
    "\n",
    "print(f\"AdaBoost with MLP as base classifier: Accuracy = {accuracy}\")\n",
    "\n",
    "# draw confusion matrix\n",
    "\n",
    "cm = confusion_matrix(y_test, y_pred)\n",
    "sns.heatmap(cm, annot=True, fmt='d')\n",
    "plt.show()\n"
   ]
  },
  {
   "attachments": {},
   "cell_type": "markdown",
   "metadata": {},
   "source": [
    "## Result and Analysis\n",
    "\n",
    "The accuracy scores and the confusion matrix are as follows:\n",
    "\n",
    "Adding a perceptron layer to the model increased the accuracy score in proportion as %33. \n",
    "\n",
    "This is very good for boosting with single perceptron using same dataset. \n",
    "\n",
    "\n",
    "![alt text](./imgs/part3.png)"
   ]
  },
  {
   "attachments": {},
   "cell_type": "markdown",
   "metadata": {},
   "source": [
    "# PART 4"
   ]
  },
  {
   "cell_type": "code",
   "execution_count": 5,
   "metadata": {},
   "outputs": [
    {
     "name": "stdout",
     "output_type": "stream",
     "text": [
      "Random Decision Forest with Trainable Perceptrons: Accuracy = 0.5666666666666667\n"
     ]
    },
    {
     "data": {
      "image/png": "[encoded data removed]",
      "text/plain": [
       "<Figure size 640x480 with 2 Axes>"
      ]
     },
     "metadata": {},
     "output_type": "display_data"
    }
   ],
   "source": [
    "from sklearn.base import BaseEstimator, ClassifierMixin\n",
    "from sklearn.utils import resample\n",
    "import numpy as np\n",
    "\n",
    "class TrainablePerceptron(BaseEstimator, ClassifierMixin):\n",
    "    def __init__(self, max_iterations=100):\n",
    "        self.max_iterations = max_iterations\n",
    "        self.perceptron = MLPClassifier(hidden_layer_sizes=(10,), random_state=42,  max_iter=2500)\n",
    "\n",
    "    def fit(self, X, y):\n",
    "        self.perceptron.fit(X, y)\n",
    "\n",
    "    def predict(self, X):\n",
    "        return self.perceptron.predict(X)\n",
    "\n",
    "class RandomDecisionForest(BaseEstimator, ClassifierMixin):\n",
    "    def __init__(self, n_estimators=10, max_iterations=100, random_state=None):\n",
    "        self.n_estimators = n_estimators\n",
    "        self.max_iterations = max_iterations\n",
    "        self.random_state = random_state\n",
    "        self.estimators = []\n",
    "\n",
    "    def fit(self, X, y):\n",
    "        for _ in range(self.n_estimators):\n",
    "            X_resampled, y_resampled = resample(X, y, random_state=self.random_state)\n",
    "            perceptron = TrainablePerceptron(max_iterations=self.max_iterations)\n",
    "            perceptron.fit(X_resampled, y_resampled)\n",
    "            self.estimators.append(perceptron)\n",
    "\n",
    "    def predict(self, X):\n",
    "        predictions = []\n",
    "        for estimator in self.estimators:\n",
    "            predictions.append(estimator.predict(X))\n",
    "        return np.mean(predictions, axis=0)\n",
    "    \n",
    "\n",
    "random_forest = RandomDecisionForest(n_estimators=20, max_iterations=2500, random_state=42)\n",
    "random_forest.fit(X_train, y_train)\n",
    "y_pred = random_forest.predict(X_test)\n",
    "accuracy = accuracy_score(y_test, y_pred)\n",
    "print(f\"Random Decision Forest with Trainable Perceptrons: Accuracy = {accuracy}\")\n",
    "\n",
    "cm = confusion_matrix(y_test, y_pred)\n",
    "sns.heatmap(cm, annot=True, fmt='d')\n",
    "plt.show()"
   ]
  },
  {
   "attachments": {},
   "cell_type": "markdown",
   "metadata": {},
   "source": [
    "## Result and Analysis\n",
    "\n",
    "\n",
    "![alt text](./imgs/part4.png)"
   ]
  }
 ],
 "metadata": {
  "kernelspec": {
   "display_name": "Python 3",
   "language": "python",
   "name": "python3"
  },
  "language_info": {
   "codemirror_mode": {
    "name": "ipython",
    "version": 3
   },
   "file_extension": ".py",
   "mimetype": "text/x-python",
   "name": "python",
   "nbconvert_exporter": "python",
   "pygments_lexer": "ipython3",
   "version": "3.10.6"
  },
  "orig_nbformat": 4
 },
 "nbformat": 4,
 "nbformat_minor": 2
}
